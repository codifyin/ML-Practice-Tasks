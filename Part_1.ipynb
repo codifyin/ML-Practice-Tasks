{
  "nbformat": 4,
  "nbformat_minor": 0,
  "metadata": {
    "colab": {
      "provenance": []
    },
    "kernelspec": {
      "name": "python3",
      "display_name": "Python 3"
    },
    "language_info": {
      "name": "python"
    }
  },
  "cells": [
    {
      "cell_type": "markdown",
      "source": [
        "# **Part 1**"
      ],
      "metadata": {
        "id": "NZwtYTRMkIVl"
      }
    },
    {
      "cell_type": "code",
      "execution_count": 10,
      "metadata": {
        "id": "Ec2Je4MVPZql",
        "colab": {
          "base_uri": "https://localhost:8080/",
          "height": 206
        },
        "outputId": "da156141-6ed9-4b4d-d970-54114f1a0f55"
      },
      "outputs": [
        {
          "output_type": "execute_result",
          "data": {
            "text/plain": [
              "    name    age         city  temperature_F   income       date  temperature_C\n",
              "0  Alice   25.0     New York           95.0  55000.0 2021-06-15      35.000000\n",
              "1    Bob   35.0  Los Angeles          102.0  60000.0 2021-06-15      38.888889\n",
              "2  Carol   35.0     New York           89.0  57500.0 2021-06-15      31.666667\n",
              "3    Bob   40.0      Chicago           78.0  70000.0 2021-06-15      25.555556\n",
              "4  Alice  100.0      Chicago           84.0  45000.0 2021-06-15      28.888889"
            ],
            "text/html": [
              "\n",
              "  <div id=\"df-ebb64922-4fb7-4bd0-bd2a-a67e6089f8fa\" class=\"colab-df-container\">\n",
              "    <div>\n",
              "<style scoped>\n",
              "    .dataframe tbody tr th:only-of-type {\n",
              "        vertical-align: middle;\n",
              "    }\n",
              "\n",
              "    .dataframe tbody tr th {\n",
              "        vertical-align: top;\n",
              "    }\n",
              "\n",
              "    .dataframe thead th {\n",
              "        text-align: right;\n",
              "    }\n",
              "</style>\n",
              "<table border=\"1\" class=\"dataframe\">\n",
              "  <thead>\n",
              "    <tr style=\"text-align: right;\">\n",
              "      <th></th>\n",
              "      <th>name</th>\n",
              "      <th>age</th>\n",
              "      <th>city</th>\n",
              "      <th>temperature_F</th>\n",
              "      <th>income</th>\n",
              "      <th>date</th>\n",
              "      <th>temperature_C</th>\n",
              "    </tr>\n",
              "  </thead>\n",
              "  <tbody>\n",
              "    <tr>\n",
              "      <th>0</th>\n",
              "      <td>Alice</td>\n",
              "      <td>25.0</td>\n",
              "      <td>New York</td>\n",
              "      <td>95.0</td>\n",
              "      <td>55000.0</td>\n",
              "      <td>2021-06-15</td>\n",
              "      <td>35.000000</td>\n",
              "    </tr>\n",
              "    <tr>\n",
              "      <th>1</th>\n",
              "      <td>Bob</td>\n",
              "      <td>35.0</td>\n",
              "      <td>Los Angeles</td>\n",
              "      <td>102.0</td>\n",
              "      <td>60000.0</td>\n",
              "      <td>2021-06-15</td>\n",
              "      <td>38.888889</td>\n",
              "    </tr>\n",
              "    <tr>\n",
              "      <th>2</th>\n",
              "      <td>Carol</td>\n",
              "      <td>35.0</td>\n",
              "      <td>New York</td>\n",
              "      <td>89.0</td>\n",
              "      <td>57500.0</td>\n",
              "      <td>2021-06-15</td>\n",
              "      <td>31.666667</td>\n",
              "    </tr>\n",
              "    <tr>\n",
              "      <th>3</th>\n",
              "      <td>Bob</td>\n",
              "      <td>40.0</td>\n",
              "      <td>Chicago</td>\n",
              "      <td>78.0</td>\n",
              "      <td>70000.0</td>\n",
              "      <td>2021-06-15</td>\n",
              "      <td>25.555556</td>\n",
              "    </tr>\n",
              "    <tr>\n",
              "      <th>4</th>\n",
              "      <td>Alice</td>\n",
              "      <td>100.0</td>\n",
              "      <td>Chicago</td>\n",
              "      <td>84.0</td>\n",
              "      <td>45000.0</td>\n",
              "      <td>2021-06-15</td>\n",
              "      <td>28.888889</td>\n",
              "    </tr>\n",
              "  </tbody>\n",
              "</table>\n",
              "</div>\n",
              "    <div class=\"colab-df-buttons\">\n",
              "\n",
              "  <div class=\"colab-df-container\">\n",
              "    <button class=\"colab-df-convert\" onclick=\"convertToInteractive('df-ebb64922-4fb7-4bd0-bd2a-a67e6089f8fa')\"\n",
              "            title=\"Convert this dataframe to an interactive table.\"\n",
              "            style=\"display:none;\">\n",
              "\n",
              "  <svg xmlns=\"http://www.w3.org/2000/svg\" height=\"24px\" viewBox=\"0 -960 960 960\">\n",
              "    <path d=\"M120-120v-720h720v720H120Zm60-500h600v-160H180v160Zm220 220h160v-160H400v160Zm0 220h160v-160H400v160ZM180-400h160v-160H180v160Zm440 0h160v-160H620v160ZM180-180h160v-160H180v160Zm440 0h160v-160H620v160Z\"/>\n",
              "  </svg>\n",
              "    </button>\n",
              "\n",
              "  <style>\n",
              "    .colab-df-container {\n",
              "      display:flex;\n",
              "      gap: 12px;\n",
              "    }\n",
              "\n",
              "    .colab-df-convert {\n",
              "      background-color: #E8F0FE;\n",
              "      border: none;\n",
              "      border-radius: 50%;\n",
              "      cursor: pointer;\n",
              "      display: none;\n",
              "      fill: #1967D2;\n",
              "      height: 32px;\n",
              "      padding: 0 0 0 0;\n",
              "      width: 32px;\n",
              "    }\n",
              "\n",
              "    .colab-df-convert:hover {\n",
              "      background-color: #E2EBFA;\n",
              "      box-shadow: 0px 1px 2px rgba(60, 64, 67, 0.3), 0px 1px 3px 1px rgba(60, 64, 67, 0.15);\n",
              "      fill: #174EA6;\n",
              "    }\n",
              "\n",
              "    .colab-df-buttons div {\n",
              "      margin-bottom: 4px;\n",
              "    }\n",
              "\n",
              "    [theme=dark] .colab-df-convert {\n",
              "      background-color: #3B4455;\n",
              "      fill: #D2E3FC;\n",
              "    }\n",
              "\n",
              "    [theme=dark] .colab-df-convert:hover {\n",
              "      background-color: #434B5C;\n",
              "      box-shadow: 0px 1px 3px 1px rgba(0, 0, 0, 0.15);\n",
              "      filter: drop-shadow(0px 1px 2px rgba(0, 0, 0, 0.3));\n",
              "      fill: #FFFFFF;\n",
              "    }\n",
              "  </style>\n",
              "\n",
              "    <script>\n",
              "      const buttonEl =\n",
              "        document.querySelector('#df-ebb64922-4fb7-4bd0-bd2a-a67e6089f8fa button.colab-df-convert');\n",
              "      buttonEl.style.display =\n",
              "        google.colab.kernel.accessAllowed ? 'block' : 'none';\n",
              "\n",
              "      async function convertToInteractive(key) {\n",
              "        const element = document.querySelector('#df-ebb64922-4fb7-4bd0-bd2a-a67e6089f8fa');\n",
              "        const dataTable =\n",
              "          await google.colab.kernel.invokeFunction('convertToInteractive',\n",
              "                                                    [key], {});\n",
              "        if (!dataTable) return;\n",
              "\n",
              "        const docLinkHtml = 'Like what you see? Visit the ' +\n",
              "          '<a target=\"_blank\" href=https://colab.research.google.com/notebooks/data_table.ipynb>data table notebook</a>'\n",
              "          + ' to learn more about interactive tables.';\n",
              "        element.innerHTML = '';\n",
              "        dataTable['output_type'] = 'display_data';\n",
              "        await google.colab.output.renderOutput(dataTable, element);\n",
              "        const docLink = document.createElement('div');\n",
              "        docLink.innerHTML = docLinkHtml;\n",
              "        element.appendChild(docLink);\n",
              "      }\n",
              "    </script>\n",
              "  </div>\n",
              "\n",
              "\n",
              "<div id=\"df-397ac3ac-e887-4a91-84ce-95249d27ba23\">\n",
              "  <button class=\"colab-df-quickchart\" onclick=\"quickchart('df-397ac3ac-e887-4a91-84ce-95249d27ba23')\"\n",
              "            title=\"Suggest charts\"\n",
              "            style=\"display:none;\">\n",
              "\n",
              "<svg xmlns=\"http://www.w3.org/2000/svg\" height=\"24px\"viewBox=\"0 0 24 24\"\n",
              "     width=\"24px\">\n",
              "    <g>\n",
              "        <path d=\"M19 3H5c-1.1 0-2 .9-2 2v14c0 1.1.9 2 2 2h14c1.1 0 2-.9 2-2V5c0-1.1-.9-2-2-2zM9 17H7v-7h2v7zm4 0h-2V7h2v10zm4 0h-2v-4h2v4z\"/>\n",
              "    </g>\n",
              "</svg>\n",
              "  </button>\n",
              "\n",
              "<style>\n",
              "  .colab-df-quickchart {\n",
              "      --bg-color: #E8F0FE;\n",
              "      --fill-color: #1967D2;\n",
              "      --hover-bg-color: #E2EBFA;\n",
              "      --hover-fill-color: #174EA6;\n",
              "      --disabled-fill-color: #AAA;\n",
              "      --disabled-bg-color: #DDD;\n",
              "  }\n",
              "\n",
              "  [theme=dark] .colab-df-quickchart {\n",
              "      --bg-color: #3B4455;\n",
              "      --fill-color: #D2E3FC;\n",
              "      --hover-bg-color: #434B5C;\n",
              "      --hover-fill-color: #FFFFFF;\n",
              "      --disabled-bg-color: #3B4455;\n",
              "      --disabled-fill-color: #666;\n",
              "  }\n",
              "\n",
              "  .colab-df-quickchart {\n",
              "    background-color: var(--bg-color);\n",
              "    border: none;\n",
              "    border-radius: 50%;\n",
              "    cursor: pointer;\n",
              "    display: none;\n",
              "    fill: var(--fill-color);\n",
              "    height: 32px;\n",
              "    padding: 0;\n",
              "    width: 32px;\n",
              "  }\n",
              "\n",
              "  .colab-df-quickchart:hover {\n",
              "    background-color: var(--hover-bg-color);\n",
              "    box-shadow: 0 1px 2px rgba(60, 64, 67, 0.3), 0 1px 3px 1px rgba(60, 64, 67, 0.15);\n",
              "    fill: var(--button-hover-fill-color);\n",
              "  }\n",
              "\n",
              "  .colab-df-quickchart-complete:disabled,\n",
              "  .colab-df-quickchart-complete:disabled:hover {\n",
              "    background-color: var(--disabled-bg-color);\n",
              "    fill: var(--disabled-fill-color);\n",
              "    box-shadow: none;\n",
              "  }\n",
              "\n",
              "  .colab-df-spinner {\n",
              "    border: 2px solid var(--fill-color);\n",
              "    border-color: transparent;\n",
              "    border-bottom-color: var(--fill-color);\n",
              "    animation:\n",
              "      spin 1s steps(1) infinite;\n",
              "  }\n",
              "\n",
              "  @keyframes spin {\n",
              "    0% {\n",
              "      border-color: transparent;\n",
              "      border-bottom-color: var(--fill-color);\n",
              "      border-left-color: var(--fill-color);\n",
              "    }\n",
              "    20% {\n",
              "      border-color: transparent;\n",
              "      border-left-color: var(--fill-color);\n",
              "      border-top-color: var(--fill-color);\n",
              "    }\n",
              "    30% {\n",
              "      border-color: transparent;\n",
              "      border-left-color: var(--fill-color);\n",
              "      border-top-color: var(--fill-color);\n",
              "      border-right-color: var(--fill-color);\n",
              "    }\n",
              "    40% {\n",
              "      border-color: transparent;\n",
              "      border-right-color: var(--fill-color);\n",
              "      border-top-color: var(--fill-color);\n",
              "    }\n",
              "    60% {\n",
              "      border-color: transparent;\n",
              "      border-right-color: var(--fill-color);\n",
              "    }\n",
              "    80% {\n",
              "      border-color: transparent;\n",
              "      border-right-color: var(--fill-color);\n",
              "      border-bottom-color: var(--fill-color);\n",
              "    }\n",
              "    90% {\n",
              "      border-color: transparent;\n",
              "      border-bottom-color: var(--fill-color);\n",
              "    }\n",
              "  }\n",
              "</style>\n",
              "\n",
              "  <script>\n",
              "    async function quickchart(key) {\n",
              "      const quickchartButtonEl =\n",
              "        document.querySelector('#' + key + ' button');\n",
              "      quickchartButtonEl.disabled = true;  // To prevent multiple clicks.\n",
              "      quickchartButtonEl.classList.add('colab-df-spinner');\n",
              "      try {\n",
              "        const charts = await google.colab.kernel.invokeFunction(\n",
              "            'suggestCharts', [key], {});\n",
              "      } catch (error) {\n",
              "        console.error('Error during call to suggestCharts:', error);\n",
              "      }\n",
              "      quickchartButtonEl.classList.remove('colab-df-spinner');\n",
              "      quickchartButtonEl.classList.add('colab-df-quickchart-complete');\n",
              "    }\n",
              "    (() => {\n",
              "      let quickchartButtonEl =\n",
              "        document.querySelector('#df-397ac3ac-e887-4a91-84ce-95249d27ba23 button');\n",
              "      quickchartButtonEl.style.display =\n",
              "        google.colab.kernel.accessAllowed ? 'block' : 'none';\n",
              "    })();\n",
              "  </script>\n",
              "</div>\n",
              "\n",
              "    </div>\n",
              "  </div>\n"
            ],
            "application/vnd.google.colaboratory.intrinsic+json": {
              "type": "dataframe",
              "variable_name": "df",
              "summary": "{\n  \"name\": \"df\",\n  \"rows\": 7,\n  \"fields\": [\n    {\n      \"column\": \"name\",\n      \"properties\": {\n        \"dtype\": \"string\",\n        \"num_unique_values\": 4,\n        \"samples\": [\n          \"Bob\",\n          \"Eve\",\n          \"Alice\"\n        ],\n        \"semantic_type\": \"\",\n        \"description\": \"\"\n      }\n    },\n    {\n      \"column\": \"age\",\n      \"properties\": {\n        \"dtype\": \"number\",\n        \"std\": 25.72103086136768,\n        \"min\": 25.0,\n        \"max\": 100.0,\n        \"num_unique_values\": 5,\n        \"samples\": [\n          35.0,\n          29.0,\n          40.0\n        ],\n        \"semantic_type\": \"\",\n        \"description\": \"\"\n      }\n    },\n    {\n      \"column\": \"city\",\n      \"properties\": {\n        \"dtype\": \"string\",\n        \"num_unique_values\": 4,\n        \"samples\": [\n          \"Los Angeles\",\n          \"Boston\",\n          \"New York\"\n        ],\n        \"semantic_type\": \"\",\n        \"description\": \"\"\n      }\n    },\n    {\n      \"column\": \"temperature_F\",\n      \"properties\": {\n        \"dtype\": \"number\",\n        \"std\": 8.383657572069263,\n        \"min\": 78.0,\n        \"max\": 102.0,\n        \"num_unique_values\": 6,\n        \"samples\": [\n          95.0,\n          102.0,\n          98.0\n        ],\n        \"semantic_type\": \"\",\n        \"description\": \"\"\n      }\n    },\n    {\n      \"column\": \"income\",\n      \"properties\": {\n        \"dtype\": \"number\",\n        \"std\": 7886.848607167564,\n        \"min\": 45000.0,\n        \"max\": 70000.0,\n        \"num_unique_values\": 6,\n        \"samples\": [\n          55000.0,\n          60000.0,\n          50000.0\n        ],\n        \"semantic_type\": \"\",\n        \"description\": \"\"\n      }\n    },\n    {\n      \"column\": \"date\",\n      \"properties\": {\n        \"dtype\": \"date\",\n        \"min\": \"2021-06-15 00:00:00\",\n        \"max\": \"2021-06-20 00:00:00\",\n        \"num_unique_values\": 3,\n        \"samples\": [\n          \"2021-06-15 00:00:00\",\n          \"2021-06-19 00:00:00\",\n          \"2021-06-20 00:00:00\"\n        ],\n        \"semantic_type\": \"\",\n        \"description\": \"\"\n      }\n    },\n    {\n      \"column\": \"temperature_C\",\n      \"properties\": {\n        \"dtype\": \"number\",\n        \"std\": 4.657587540038477,\n        \"min\": 25.555555555555557,\n        \"max\": 38.888888888888886,\n        \"num_unique_values\": 6,\n        \"samples\": [\n          35.0,\n          38.888888888888886,\n          36.666666666666664\n        ],\n        \"semantic_type\": \"\",\n        \"description\": \"\"\n      }\n    }\n  ]\n}"
            }
          },
          "metadata": {},
          "execution_count": 10
        }
      ],
      "source": [
        "import pandas as pd\n",
        "\n",
        "# Load the dataset\n",
        "df = pd.read_csv('dataset_task1.csv')\n",
        "\n",
        "# Convert 'age' to numeric, forcing errors to NaN\n",
        "df['age'] = pd.to_numeric(df['age'], errors='coerce')\n",
        "\n",
        "# Cap 'age' between 0 and 100\n",
        "df['age'] = df['age'].clip(lower=0, upper=100)\n",
        "\n",
        "# Standardize city and name columns by converting to title case\n",
        "df['name'] = df['name'].str.title()\n",
        "df['city'] = df['city'].str.title()\n",
        "\n",
        "# Standardize string lengths\n",
        "df['city'] = df['city'].str[:15]\n",
        "df['name'] = df['name'].str[:15]\n",
        "\n",
        "# Convert 'date' to a consistent format and handle missing dates\n",
        "df['date'] = pd.to_datetime(df['date'], errors='coerce')\n",
        "\n",
        "# Fill missing dates with a constant or appropriate method\n",
        "df['date'].fillna('2021-06-15', inplace=True)\n",
        "\n",
        "# Fill missing values in 'income' and 'temperature_F' with median\n",
        "df['income'].fillna(df['income'].median(), inplace=True)\n",
        "df['temperature_F'].fillna(df['temperature_F'].median(), inplace=True)\n",
        "\n",
        "# Convert temperature from Fahrenheit to Celsius\n",
        "df['temperature_C'] = (df['temperature_F'] - 32) * 5.0 / 9.0\n",
        "\n",
        "# Fill missing values in 'age', 'temperature_C', and other columns if necessary\n",
        "df['age'].fillna(df['age'].median(), inplace=True)\n",
        "df['temperature_C'].fillna(df['temperature_C'].median(), inplace=True)\n",
        "\n",
        "# Remove duplicate rows\n",
        "df.drop_duplicates(inplace=True)\n",
        "\n",
        "# View the final dataset\n",
        "df.head()\n"
      ]
    },
    {
      "cell_type": "markdown",
      "source": [
        "**Task 1: Data Type Constraints**\n",
        "\n",
        "\n",
        "\n",
        "\n"
      ],
      "metadata": {
        "id": "HJv2JvI6hoJn"
      }
    },
    {
      "cell_type": "markdown",
      "source": [
        "To convert columns with incorrect data types (such as strings like\n",
        "\"thirty\" for age) to numeric, I used the pd.to_numeric() function. This function converts a column to a numeric type, and with the errors='coerce' argument, it forces invalid values (e.g., strings or inappropriate entries) into NaN."
      ],
      "metadata": {
        "id": "y-nuXFqRiBxW"
      }
    },
    {
      "cell_type": "markdown",
      "source": [
        "**Task 2: Data Range Constraints**"
      ],
      "metadata": {
        "id": "AH4tyTbpiDye"
      }
    },
    {
      "cell_type": "markdown",
      "source": [
        "To detect and handle outliers, I used the clip() function to cap the values within a specific range."
      ],
      "metadata": {
        "id": "dJuzKN4NiKW2"
      }
    },
    {
      "cell_type": "markdown",
      "source": [
        "**Task 3: Uniqueness Constraints**"
      ],
      "metadata": {
        "id": "sb_ZkX63ijqb"
      }
    },
    {
      "cell_type": "markdown",
      "source": [
        "To remove duplicate rows, I used the drop_duplicates() function."
      ],
      "metadata": {
        "id": "nJmVlFvriqaD"
      }
    },
    {
      "cell_type": "markdown",
      "source": [
        "**Task 4: Categorical Data Problems**"
      ],
      "metadata": {
        "id": "3iB5lkTDirwG"
      }
    },
    {
      "cell_type": "markdown",
      "source": [
        "For inconsistent text in the categorical data (such as different capitalization for city names), I used the str.title() method to standardize them."
      ],
      "metadata": {
        "id": "pogRs470jE8o"
      }
    },
    {
      "cell_type": "markdown",
      "source": [
        "**Task 5: Numeric Data Problems**\n",
        "\n",
        "\n",
        "\n"
      ],
      "metadata": {
        "id": "mDafLJZgjGLm"
      }
    },
    {
      "cell_type": "markdown",
      "source": [
        "Celsius=(Fahrenheit−32)× 5/9"
      ],
      "metadata": {
        "id": "26wN9SxyjVU_"
      }
    },
    {
      "cell_type": "markdown",
      "source": [
        "**Task 6: Date Constraints**"
      ],
      "metadata": {
        "id": "4CUhTjzkjhH3"
      }
    },
    {
      "cell_type": "markdown",
      "source": [
        "To ensure consistency in the date column, I used the pd.to_datetime() function. This function converts the column into a standard date format (YYYY-MM-DD)."
      ],
      "metadata": {
        "id": "iEu3e984jmZZ"
      }
    },
    {
      "cell_type": "markdown",
      "source": [
        "**Task 7: Missing Data**"
      ],
      "metadata": {
        "id": "4k9FNnKsjyl8"
      }
    },
    {
      "cell_type": "markdown",
      "source": [
        "To handle missing values in numerical columns (age, income, temperature_F, temperature_C), I used the fillna() method. For each column, I imputed missing values with the median of that column, ensuring that the missing data is replaced with a statistically meaningful value."
      ],
      "metadata": {
        "id": "arv9Ef4dj5rx"
      }
    },
    {
      "cell_type": "markdown",
      "source": [
        "# **Part 2**"
      ],
      "metadata": {
        "id": "f7k51MT5kMLI"
      }
    },
    {
      "cell_type": "code",
      "source": [
        "# Setting library\n",
        "import pandas as pd\n",
        "from sklearn.model_selection import train_test_split, StratifiedKFold, cross_val_score\n",
        "from sklearn.preprocessing import LabelEncoder\n",
        "from sklearn.ensemble import RandomForestClassifier\n",
        "\n",
        "# Load the dataset from Excel\n",
        "file_path = 'Raisin_Dataset.xlsx'\n",
        "df = pd.read_excel(file_path)\n",
        "\n",
        "df.head()\n",
        "\n",
        "# Prepare Features (X) and Target (y)\n",
        "X = df.iloc[:, :-1]\n",
        "y = df.iloc[:, -1]\n",
        "\n",
        "# Encode the target variable\n",
        "label_encoder = LabelEncoder()\n",
        "y = label_encoder.fit_transform(y)\n",
        "\n",
        "# Random Splitting\n",
        "X_train, X_test, y_train, y_test = train_test_split(X, y, test_size=0.3, random_state=42) # Split the dataset randomly into 70% train and 30% test\n",
        "\n",
        "# Stratified Sampling\n",
        "X_train_strat, X_test_strat, y_train_strat, y_test_strat = train_test_split(X, y, test_size=0.3, stratify=y, random_state=42)\n",
        "\n",
        "# Cross-Validation\n",
        "\n",
        "# Initialize the model\n",
        "clf = RandomForestClassifier(random_state=42)\n",
        "\n",
        "# Apply 5-fold cross-validation\n",
        "cv = StratifiedKFold(n_splits=5)\n",
        "cv_scores = cross_val_score(clf, X, y, cv=cv)\n",
        "\n",
        "# Print cross-validation results\n",
        "print(\"Cross-Validation Scores: \", cv_scores)\n",
        "print(\"Average CV Score: \", cv_scores.mean())\n"
      ],
      "metadata": {
        "colab": {
          "base_uri": "https://localhost:8080/"
        },
        "id": "kh7a4R2hkO6G",
        "outputId": "2b177d07-25a2-489a-dd99-92c0aaefbde7"
      },
      "execution_count": 12,
      "outputs": [
        {
          "output_type": "stream",
          "name": "stdout",
          "text": [
            "Cross-Validation Scores:  [0.88333333 0.9        0.85555556 0.81111111 0.85      ]\n",
            "Average CV Score:  0.86\n"
          ]
        }
      ]
    },
    {
      "cell_type": "markdown",
      "source": [
        "**Brief explanation of the code above**"
      ],
      "metadata": {
        "id": "qYhRQJGTrGSM"
      }
    },
    {
      "cell_type": "markdown",
      "source": [
        "We used the train_test_split() function from sklearn to randomly split the dataset into 70% training and 30% test sets. The random_state=42 ensures reproducibility. We used the stratify argument in train_test_split() to ensure that the class distribution in the training and test sets matches the overall distribution. For cross-validation, we used the cross_val_score() function with StratifiedKFold to ensure that each fold has a similar class distribution. The RandomForestClassifier model is trained on different folds, and we report the accuracy for each fold and the average accuracy."
      ],
      "metadata": {
        "id": "Nm3APiH0rMnr"
      }
    },
    {
      "cell_type": "markdown",
      "source": [
        "# Link for the dataset: https://archive.ics.uci.edu/dataset/850/raisin"
      ],
      "metadata": {
        "id": "pTioAOcFr6yN"
      }
    }
  ]
}